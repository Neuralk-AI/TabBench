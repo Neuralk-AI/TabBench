{
 "cells": [
  {
   "cell_type": "markdown",
   "id": "8de90b1a",
   "metadata": {},
   "source": [
    "#  🏁 1. Introduction to TabBench"
   ]
  },
  {
   "cell_type": "markdown",
   "id": "800af6c8-61e9-44f7-84ba-68e84dc9269c",
   "metadata": {
    "jp-MarkdownHeadingCollapsed": true
   },
   "source": [
    "## 1.1 What is TabBench?\n",
    "\n",
    "**TabBench** is a new benchmark built to evaluate machine learning models on **tabular data**, focusing on **real-world industry use cases**.\n",
    "\n",
    "TabBench addresses a critical gap: traditional benchmarks tend to rely on public, academic datasets that are clean and carefully curated. While useful for research, they fail to reflect the imperfect nature of private enterprise data. \n",
    "\n",
    "To bridge this gap, TabBench introduces a new evaluation framework focused on real industry use cases. It enables a meaningful comparison of models specifically designed to address concrete business problems across sectors, starting with the domain of **Commerce**.\n",
    "\n",
    "Commerce organizations rely heavily on tabular data that is complex, messy and highly-dimensional: structured datasets like product catalogs, transaction histories, and customer records power core business operations and decisions. \n",
    "\n",
    "TabBench is specifically designed to assess ML models on high-impact, real-world tasks such as product categorization and deduplication, going beyond traditional classification or regression problems. \n",
    "\n",
    "Its goal is to equip data science teams with the tools they need to identify and develop the most effective and powerful ML models tailored to their unique use cases."
   ]
  },
  {
   "cell_type": "markdown",
   "id": "ad4fa2c5-97cf-4f9a-b1ea-17ef6f968068",
   "metadata": {},
   "source": [
    "## 1.2 What does it include? \n",
    "With **TabBench**, you get:\n",
    "\n",
    "- **Industry-focused use cases with standardized workflow logic:**  \n",
    "  Target critical production problems through streamlined workflows featuring consistent preprocessing, training, and evaluation steps applied uniformly across all models.\n",
    "- **Evaluation on Industrial & Academic datasets:**  \n",
    "  - Assess models on proprietary industry datasets from partner companies. [Contact Us](https://www.neuralk-ai.com/contact)  \n",
    "  - Complementary evaluation on selected academic datasets for comprehensive comparison.\n",
    "- **Performance tracking:**  \n",
    "  Easily identify top-performing tabular models via the TabBench [Dashboard](https://www.dashboard.neuralk-ai.com)\n",
    "- **Neuralk Foundry-CE:**  \n",
    "  TabBench is built on top of Neuralk Foundry-CE, a modular framework designed to help you quickly build and experiment with your own workflows. [Explore here](https://github.com/Neuralk-AI/NeuralkFoundry-CE/)\n",
    "\n"
   ]
  },
  {
   "cell_type": "markdown",
   "id": "8b0ce428-0a2d-42d3-9160-740c33ef35b6",
   "metadata": {},
   "source": [
    "# 🛍️ 2. Getting started: Product Categorization \n",
    "\n",
    "This tutorial walks you through a basic product categorization task using a public e-commerce dataset. The goal is to predict the product category based on features like product name, price, and manufacturer.\n"
   ]
  },
  {
   "cell_type": "markdown",
   "id": "e7ca708f-2095-407f-93db-f31b334b29b1",
   "metadata": {},
   "source": [
    "## 2.1 What is a Workflow?\n",
    "\n",
    "To streamline each task, we developed a library of predefined **Workflows** — a sequence of modular **steps**, each responsible for a specific part of the pipeline, from preprocessing to prediction. \n",
    "\n",
    "A **workflow** is a reusable chain of operations tailored to a given use case, such as classification, deduplication, or regression. It encapsulates best practices for data loading, splitting, model training, and evaluation, tailored to each use case. This modular design makes it easy to experiment with different methods at every stage and directly compare their impact on model performance.\n",
    "\n",
    "In this example, we focus on product categorization — a classification problem — using one of these pre-defined workflows to demonstrate how TabBench can be effectively applied in practice.\n"
   ]
  },
  {
   "cell_type": "markdown",
   "id": "8267d6cc-b116-4c97-8adb-98813848e6b5",
   "metadata": {},
   "source": [
    "### 2.1.1 The Product Categorization Workflow\n",
    "\n",
    "We treat Product Categorization a standard **multiclass classification** problem: predicting the category of a product based on its **name**, **price**, and **manufacturer**. The dataset is derived from public **BestBuy** product listings and includes a variety of consumer goods.\n",
    "\n",
    "The objective is to classify each product into one of three broad categories:\n",
    "\n",
    "* **HardGoods**: Physical consumer electronics or accessories (e.g., CD-R packs, coffee machines).\n",
    "* **Games**: Video games and related media.\n",
    "* **Software**: Educational or productivity software.\n",
    "\n",
    "Below is a sample of the input data:\n",
    "\n",
    "| Product ID | Name                                              | Price  | Manufacturer  | Category |\n",
    "| ---------- | ------------------------------------------------- | ------ | ------------- | -------- |\n",
    "| 44120      | Memorex - Cool Colors 50-Pack 52x CD-R Disc Sp... | 19.99  | Memorex       | HardGood |\n",
    "| 33157      | Mr. Coffee - 12-Cup Coffeemaker - Metallic Red    | 49.99  | Mr. Coffee    | HardGood |\n",
    "| 48322      | The Crew - Xbox One                               | 29.99  | Ubisoft       | Game     |\n",
    "| 45372      | RCA - Discwasher Vinyl Record Care System         | 19.99  | RCA           | HardGood |\n",
    "| 22339      | Overwatch Collector's Edition - Xbox One          | 129.99 | Blizzard      | Game     |\n",
    "| 5906       | Metra - Speaker Adapter Plates for Select Mazd... | 16.99  | Metra         | HardGood |\n",
    "| 10168      | Rosetta Stone Version 4 TOTALe: Italian Level ... | 299.99 | Rosetta Stone | Software |\n",
    "\n",
    "We begin by initializing the default workflow provided by TabBench for classification tasks. This allows us to explore the sequence of predefined steps, such as preprocessing, model training, and evaluation, that have been designed to handle typical tabular classification problems like this one.\n",
    "\n",
    "### 2.1.2 Visualizing Workflows\n",
    "\n",
    "To better understand how a workflow is structured, TabBench provides a built-in visualization tool that can be used directly within a notebook environment. With a single command, you can generate a clear, user-friendly diagram showing each step, its inputs, and its outputs—making the overall process easy to follow and debug."
   ]
  },
  {
   "cell_type": "code",
   "execution_count": 1,
   "id": "d6b648d7-4ccf-4d64-a47b-8c073ad45d0f",
   "metadata": {},
   "outputs": [
    {
     "name": "stderr",
     "output_type": "stream",
     "text": [
      "/Users/makaroff/Documents/GitHub/TabBench/.venv/lib/python3.12/site-packages/tqdm/auto.py:21: TqdmWarning: IProgress not found. Please update jupyter and ipywidgets. See https://ipywidgets.readthedocs.io/en/stable/user_install.html\n",
      "  from .autonotebook import tqdm as notebook_tqdm\n"
     ]
    },
    {
     "data": {
      "text/html": [
       "\n",
       "    <style>\n",
       "        .pipeline {\n",
       "            display: flex;\n",
       "            align-items: center;\n",
       "            justify-content: flex-start;\n",
       "            font-family: sans-serif;\n",
       "            margin-top: 26px;\n",
       "        }\n",
       "        .block-wrapper {\n",
       "            position: relative;\n",
       "            display: flex;\n",
       "            flex-direction: column;\n",
       "            align-items: center;\n",
       "            margin: 0 10px;\n",
       "        }\n",
       "        .block-title {\n",
       "            position: absolute;\n",
       "            top: -24px;\n",
       "            font-weight: bold;\n",
       "            text-align: center;\n",
       "        }\n",
       "        .block {\n",
       "            display: flex;\n",
       "            flex-direction: column;\n",
       "            align-items: center;\n",
       "        }\n",
       "        .group {\n",
       "            border: 2px solid #999;\n",
       "            border-radius: 10px;\n",
       "            background: #f9f9f9;\n",
       "            padding: 8px;\n",
       "        }\n",
       "        .node-container {\n",
       "            display: flex;\n",
       "            align-items: center;\n",
       "            justify-content: center;\n",
       "        }\n",
       "        .node {\n",
       "            display: inline-block;\n",
       "            background: #eaf4ff;\n",
       "            border-radius: 10px;\n",
       "            padding: 8px 12px;\n",
       "            text-align: center;\n",
       "            min-width: 120px;\n",
       "            box-shadow: 1px 1px 3px rgba(0,0,0,0.1);\n",
       "        }\n",
       "        .arrow {\n",
       "            display: flex;\n",
       "            align-items: center;\n",
       "            justify-content: center;\n",
       "            font-size: 20px;\n",
       "            margin: 0 10px;\n",
       "            height: 100%;\n",
       "        }\n",
       "        .step-detail {\n",
       "            margin-top: 30px;\n",
       "            padding: 10px 16px;\n",
       "            border-top: 2px solid #ccc;\n",
       "            font-family: sans-serif;\n",
       "            font-size: 14px;\n",
       "            max-width: 800px;\n",
       "            max-height: none !important;\n",
       "            overflow: visible !important;\n",
       "        }\n",
       "        .step-detail ul {\n",
       "            padding-left: 1em;\n",
       "            margin: 0.3em 0;\n",
       "        }\n",
       "    </style>\n",
       "\n",
       "    <script>\n",
       "        const stepData = {\"0_0\": {\"name\": \"LoadDataset\", \"description\": \"    Loads a dataset and insert it in the pipeline.\", \"inputs\": [], \"outputs\": [{\"name\": \"X\", \"doc\": \"Input features of the dataset\"}, {\"name\": \"y\", \"doc\": \"Target variable to predict\"}, {\"name\": \"task\", \"doc\": \"Type of prediction task\"}, {\"name\": \"target\", \"doc\": \"Name of the target column to predict\"}], \"params\": [{\"name\": \"dataset\", \"doc\": \"Name of the dataset to load\", \"optional\": false}]}, \"1_0\": {\"name\": \"StratifiedShuffleSplitter\", \"description\": \"Stratified shuffle-based data splitter for classification tasks.\", \"inputs\": [{\"name\": \"X\", \"doc\": \"Input features of the dataset\"}, {\"name\": \"y\", \"doc\": \"Target variable to predict\"}, {\"name\": \"fold_index\", \"doc\": \"Index of the train/test split\"}], \"outputs\": [{\"name\": \"splits\", \"doc\": \"Masks for train, validation, and test sets\"}], \"params\": []}, \"2_0\": {\"name\": \"MergedStep\", \"description\": \"No description available.\", \"inputs\": [{\"name\": \"X\", \"doc\": \"Merged field from substeps.\"}, {\"name\": \"y\", \"doc\": \"Merged field from substeps.\"}, {\"name\": \"categorical_features\", \"doc\": \"Merged field from substeps.\"}, {\"name\": \"numerical_features\", \"doc\": \"Merged field from substeps.\"}], \"outputs\": [{\"name\": \"numerical_features\", \"doc\": \"Merged field from substeps.\"}, {\"name\": \"categorical_features\", \"doc\": \"Merged field from substeps.\"}, {\"name\": \"text_features\", \"doc\": \"Merged field from substeps.\"}, {\"name\": \"date_features\", \"doc\": \"Merged field from substeps.\"}, {\"name\": \"X\", \"doc\": \"Merged field from substeps.\"}, {\"name\": \"y\", \"doc\": \"Merged field from substeps.\"}, {\"name\": \"y_classes\", \"doc\": \"Merged field from substeps.\"}], \"params\": [{\"name\": \"numerical_features\", \"doc\": \"Merged field from substeps.\", \"optional\": true}, {\"name\": \"categorical_features\", \"doc\": \"Merged field from substeps.\", \"optional\": true}, {\"name\": \"text_features\", \"doc\": \"Merged field from substeps.\", \"optional\": true}, {\"name\": \"date_features\", \"doc\": \"Merged field from substeps.\", \"optional\": true}, {\"name\": \"categorical_encoding\", \"doc\": \"Merged field from substeps.\", \"optional\": true}, {\"name\": \"categorical_imputation\", \"doc\": \"Merged field from substeps.\", \"optional\": true}, {\"name\": \"numerical_encoding\", \"doc\": \"Merged field from substeps.\", \"optional\": true}, {\"name\": \"numerical_imputation\", \"doc\": \"Merged field from substeps.\", \"optional\": true}]}, \"3_0\": {\"name\": \"XGBoostClassifier\", \"description\": \"Train an XGBoost classifier on tabular data.\", \"inputs\": [{\"name\": \"X\", \"doc\": \"Input features of the dataset\"}, {\"name\": \"y\", \"doc\": \"Target variable to predict\"}, {\"name\": \"splits\", \"doc\": \"Masks for train, validation, and test sets\"}, {\"name\": \"metric_to_optimize\", \"doc\": \"Metric to optimize during model selection or hyperparameter tuning\"}, {\"name\": \"y_classes\", \"doc\": \"Original classes before label encoding\"}, {\"name\": \"categorical_features\", \"doc\": \"Names of columns corresponding to categorical features\"}], \"outputs\": [{\"name\": \"y_pred\", \"doc\": \"Predicted target values\"}, {\"name\": \"y_score\", \"doc\": \"Class probability distribution for each sample\"}], \"params\": []}};\n",
       "        window.showStepDetails = function(stepId) {\n",
       "            const step = stepData[stepId];\n",
       "            if (!step) return;\n",
       "\n",
       "            function list(items, optionalKey = false) {\n",
       "                return items.map(f => \n",
       "                    `<li><b>${f.name}</b>: ${f.doc}` +\n",
       "                    (optionalKey && f.optional ? \" <span style='color:gray'>(optional)</span>\" : \"\") +\n",
       "                    \"</li>\"\n",
       "                ).join('');\n",
       "            }\n",
       "\n",
       "            document.getElementById(\"step-detail\").innerHTML = `\n",
       "                <h3>${step.name}</h3>\n",
       "                <p><b>Description:</b> ${step.description}</p>\n",
       "                <div><b>Inputs:</b><ul>${step.inputs.length ? list(step.inputs) : \"<li><i>None</i></li>\"}</ul></div>\n",
       "                <div><b>Outputs:</b><ul>${step.outputs.length ? list(step.outputs) : \"<li><i>None</i></li>\"}</ul></div>\n",
       "                <div><b>Parameters:</b><ul>${step.params.length ? list(step.params, true) : '<li><i>None</i></li>'}</ul></div>\n",
       "            `;\n",
       "        }\n",
       "    </script>\n",
       "\n",
       "    <div class=\"pipeline\">\n",
       "        \n",
       "            <div class=\"block-wrapper\">\n",
       "                <div class=\"block-title\">Dataset</div>\n",
       "                <div class=\"block\">\n",
       "                    <div class=\"node-container\">\n",
       "                        \n",
       "        <div class=\"node\" onclick=\"showStepDetails('0_0')\" style=\"cursor: pointer;\">\n",
       "            <div \n",
       "                style=\"font-weight: bold; margin-bottom: 8px; cursor: help;\" \n",
       "                title=\"    Loads a dataset and insert it in the pipeline.\"\n",
       "            >\n",
       "                LoadDataset\n",
       "            </div>\n",
       "\n",
       "            <div style='font-size: smaller; margin-bottom: 4px'><b>Inputs:</b> <i>None</i></div>\n",
       "            <div style='font-size: smaller; margin-bottom: 4px'><b>Outputs:</b> <span title='Input features of the dataset'>X</span>, <span title='Target variable to predict'>y</span>, <span title='Type of prediction task'>task</span>, <span title='Name of the target column to predict'>target</span></div>\n",
       "        </div>\n",
       "        \n",
       "                    </div>\n",
       "                </div>\n",
       "            </div>\n",
       "            <div class=\"arrow\">⮕</div>\n",
       "            <div class=\"block-wrapper\">\n",
       "                <div class=\"block-title\">Splitting</div>\n",
       "                <div class=\"block\">\n",
       "                    <div class=\"node-container\">\n",
       "                        \n",
       "        <div class=\"node\" onclick=\"showStepDetails('1_0')\" style=\"cursor: pointer;\">\n",
       "            <div \n",
       "                style=\"font-weight: bold; margin-bottom: 8px; cursor: help;\" \n",
       "                title=\"Stratified shuffle-based data splitter for classification tasks.\"\n",
       "            >\n",
       "                StratifiedShuffleSplitter\n",
       "            </div>\n",
       "\n",
       "            <div style='font-size: smaller; margin-bottom: 4px'><b>Inputs:</b> <span title='Input features of the dataset'>X</span>, <span title='Target variable to predict'>y</span>, <span title='Index of the train/test split'>fold_index</span> <span style='color:gray'>(opt.)</span></div>\n",
       "            <div style='font-size: smaller; margin-bottom: 4px'><b>Outputs:</b> <span title='Masks for train, validation, and test sets'>splits</span></div>\n",
       "        </div>\n",
       "        \n",
       "                    </div>\n",
       "                </div>\n",
       "            </div>\n",
       "            <div class=\"arrow\">⮕</div>\n",
       "            <div class=\"block-wrapper\">\n",
       "                <div class=\"block-title\">Feature engineering</div>\n",
       "                <div class=\"block\">\n",
       "                    <div class=\"node-container\">\n",
       "                        \n",
       "        <div class=\"node\" onclick=\"showStepDetails('2_0')\" style=\"cursor: pointer;\">\n",
       "            <div \n",
       "                style=\"font-weight: bold; margin-bottom: 8px; cursor: help;\" \n",
       "                title=\"No description available.\"\n",
       "            >\n",
       "                MergedStep\n",
       "            </div>\n",
       "\n",
       "            <div style='font-size: smaller; margin-bottom: 4px'><b>Inputs:</b> <span title='Merged field from substeps.'>X</span>, <span title='Merged field from substeps.'>y</span>, <span title='Merged field from substeps.'>categorical_features</span> <span style='color:gray'>(opt.)</span>, <span title='Merged field from substeps.'>numerical_features</span></div>\n",
       "            <div style='font-size: smaller; margin-bottom: 4px'><b>Outputs:</b> <span title='Merged field from substeps.'>numerical_features</span>, <span title='Merged field from substeps.'>categorical_features</span>, <span title='Merged field from substeps.'>text_features</span>, <span title='Merged field from substeps.'>date_features</span>, <span title='Merged field from substeps.'>X</span>, <span title='Merged field from substeps.'>y</span>, <span title='Merged field from substeps.'>y_classes</span></div>\n",
       "        </div>\n",
       "        \n",
       "                    </div>\n",
       "                </div>\n",
       "            </div>\n",
       "            <div class=\"arrow\">⮕</div>\n",
       "            <div class=\"block-wrapper\">\n",
       "                <div class=\"block-title\">Classifier</div>\n",
       "                <div class=\"block\">\n",
       "                    <div class=\"node-container\">\n",
       "                        \n",
       "        <div class=\"node\" onclick=\"showStepDetails('3_0')\" style=\"cursor: pointer;\">\n",
       "            <div \n",
       "                style=\"font-weight: bold; margin-bottom: 8px; cursor: help;\" \n",
       "                title=\"Train an XGBoost classifier on tabular data.\"\n",
       "            >\n",
       "                XGBoostClassifier\n",
       "            </div>\n",
       "\n",
       "            <div style='font-size: smaller; margin-bottom: 4px'><b>Inputs:</b> <span title='Input features of the dataset'>X</span>, <span title='Target variable to predict'>y</span>, <span title='Masks for train, validation, and test sets'>splits</span>, <span title='Metric to optimize during model selection or hyperparameter tuning'>metric_to_optimize</span>, <span title='Original classes before label encoding'>y_classes</span> <span style='color:gray'>(opt.)</span>, <span title='Names of columns corresponding to categorical features'>categorical_features</span></div>\n",
       "            <div style='font-size: smaller; margin-bottom: 4px'><b>Outputs:</b> <span title='Predicted target values'>y_pred</span>, <span title='Class probability distribution for each sample'>y_score</span></div>\n",
       "        </div>\n",
       "        \n",
       "                    </div>\n",
       "                </div>\n",
       "            </div>\n",
       "            \n",
       "    </div>\n",
       "\n",
       "    <div class=\"step-detail\" id=\"step-detail\">\n",
       "        <b>Click on a step to view its details</b>\n",
       "    </div>\n",
       "\n",
       "\n",
       "    "
      ],
      "text/plain": [
       "<IPython.core.display.HTML object>"
      ]
     },
     "metadata": {},
     "output_type": "display_data"
    }
   ],
   "source": [
    "from tabbench.workflow.use_cases import Categorisation\n",
    "\n",
    "use_case = Categorisation('best_buy_simple_categ')\n",
    "use_case.notebook_display()"
   ]
  },
  {
   "cell_type": "markdown",
   "id": "7445ea38-e822-4042-8f60-d4dec70f6ba8",
   "metadata": {},
   "source": [
    "This demonstrates how TabBench seamlessly handles input data within a modular, step-by-step design:\n",
    "\n",
    "- **`LoadDataset`**  \n",
    "  Loads the dataset to be used for evaluation.\n",
    "\n",
    "- **`StratifiedShuffleSplitter`**  \n",
    "  Splits the data into training and test sets while preserving class distribution.\n",
    "\n",
    "- **`PreprocessingStep`**\n",
    "  - Applies standard scaling to continuous features\n",
    "  - Applies one-hot encoding to categorical features\n",
    "\n",
    "- **`TfIdfVectorizer`**  \n",
    "  Transforms text features using TF-IDF vectorization.\n",
    "\n",
    "- **`LabelEncoding`**  \n",
    "  Encodes the target variable to ensure compatibility with most model formats.\n",
    "\n",
    "- **`XGBoostClassifier`**  \n",
    "  A gradient boosting model that could be used for training and prediction.\n",
    "\n",
    "\n",
    "This example provides a complete overview of how TabBench can be used to process structured and textual features together in a unified workflow.\n",
    "\n"
   ]
  },
  {
   "cell_type": "markdown",
   "id": "869792bf-4e42-40fc-8ff2-a396fbd5b664",
   "metadata": {},
   "source": [
    "### 2.1.3 A Workflow Step\n",
    "\n",
    "In TabBench, workflows are built as a sequence of modular, interchangeable components, that we call **Steps**. \n",
    "\n",
    "To ensure they can be flexibly chained together, each step adheres to a common interface: it defines the inputs it expects and the outputs it produces. This structure allows the output of one step to seamlessly feed into the next.\n",
    "\n",
    "For example, a classifier step typically receives `X`, `y`, and `splits` as inputs—representing the features, targets, and the train/validation/test partition. It then returns predictions such as `y_pred` (predicted labels) and `y_score` (confidence scores or probabilities). This standardized input/output behavior is what enables different steps to be combined, replaced, or reused consistently across workflows. \n",
    "\n",
    "Steps are composable and interchangeable, making it easy to compare different implementations—for instance, swapping a TF-IDF vectorizer for a sentence transformer. \n",
    "\n",
    "Each use case is defined by its own step sequence, and benchmarking different variants simply means swapping steps within a consistent workflow.\n"
   ]
  },
  {
   "cell_type": "markdown",
   "id": "a2e75890-d9c6-40c7-b5b6-9f9bfa907cd6",
   "metadata": {},
   "source": [
    "**Inspecting a Workflow Step**\n",
    "\n",
    "In addition to the visual overview, you can inspect individual steps in more detail using their `describe()` method. This reveals the specific inputs each step expects and the outputs it produces, helping you understand how data flows through the pipeline and how each component contributes to the overall task.\n"
   ]
  },
  {
   "cell_type": "code",
   "execution_count": 2,
   "id": "cf857841",
   "metadata": {},
   "outputs": [
    {
     "name": "stdout",
     "output_type": "stream",
     "text": [
      "Train an XGBoost classifier on tabular data.\n",
      "\n",
      "Inputs:\n",
      "- X: Input features of the dataset\n",
      "- y: Target variable to predict\n",
      "- splits: Masks for train, validation, and test sets\n",
      "- metric_to_optimize: Metric to optimize during model selection or hyperparameter tuning\n",
      "- y_classes: Original classes before label encoding (optional)\n",
      "- categorical_features: Names of columns corresponding to categorical features\n",
      "\n",
      "Outputs:\n",
      "- y_pred: Predicted target values\n",
      "- y_score: Class probability distribution for each sample\n",
      "\n",
      "Parameters:\n",
      "  None\n"
     ]
    }
   ],
   "source": [
    "from neuralk_foundry_ce.models.classifier import XGBoostClassifier\n",
    "\n",
    "clf = XGBoostClassifier()\n",
    "print(clf.describe())"
   ]
  },
  {
   "cell_type": "markdown",
   "id": "9409844d",
   "metadata": {},
   "source": [
    "## Running the Workflow\n",
    "\n"
   ]
  },
  {
   "cell_type": "code",
   "execution_count": null,
   "id": "5187277b",
   "metadata": {},
   "outputs": [],
   "source": [
    "data, metrics = use_case.run() # Beware that we are running 100 trials. Go grab a coffee. \n",
    "print(f'Final test ROC AUC {metrics[\"xgboost-classifier\"][\"test_roc_auc\"]}')"
   ]
  },
  {
   "cell_type": "markdown",
   "id": "d0c93f37-e77a-429c-b621-75cad6d143fb",
   "metadata": {},
   "source": [
    "Predictions are now readily available to explain results for example through a confusion matrix."
   ]
  },
  {
   "cell_type": "code",
   "execution_count": 4,
   "id": "8b060b67-b7d4-4e6f-9ce3-bc80849a7858",
   "metadata": {
    "scrolled": true
   },
   "outputs": [
    {
     "data": {
      "text/plain": [
       "<sklearn.metrics._plot.confusion_matrix.ConfusionMatrixDisplay at 0x1755720d0>"
      ]
     },
     "execution_count": 4,
     "metadata": {},
     "output_type": "execute_result"
    },
    {
     "data": {
      "image/png": "[encoded data removed]",
      "text/plain": [
       "<Figure size 640x480 with 2 Axes>"
      ]
     },
     "metadata": {},
     "output_type": "display_data"
    }
   ],
   "source": [
    "from sklearn.metrics import ConfusionMatrixDisplay\n",
    "\n",
    "\n",
    "ConfusionMatrixDisplay.from_predictions(data['y_pred'], data['y'])"
   ]
  },
  {
   "cell_type": "markdown",
   "id": "2adb6863-b828-47b7-a326-4b7fc235d3d5",
   "metadata": {},
   "source": [
    "## Conclusion\n",
    "\n",
    "This introductory example highlights how **TabBench** is purpose-built to address real-world use cases by enabling you to construct and execute end-to-end machine learning workflows tailored to specific industry problems. \n",
    "\n",
    "From loading datasets and task-specific splitting to feature vectorization, model training, and evaluation, every step is designed with the use case in mind.\n",
    "\n",
    "Beyond this simple task, TabBench offers other tutorials that explore more complex customization and workflow capabilities. \n",
    "\n",
    "Check the other tutorials:\n",
    "\n",
    "* [2 - Adding a local or internet dataset](./2%20-%20Adding%20a%20local%20or%20internet%20dataset.ipynb)\n",
    "\n",
    "* [3 - Use a custom model.ipynb](./3%20-%20Use%20a%20custom%20model.ipynb)\n",
    "\n"
   ]
  }
 ],
 "metadata": {
  "kernelspec": {
   "display_name": "Python 3 (ipykernel)",
   "language": "python",
   "name": "python3"
  },
  "language_info": {
   "codemirror_mode": {
    "name": "ipython",
    "version": 3
   },
   "file_extension": ".py",
   "mimetype": "text/x-python",
   "name": "python",
   "nbconvert_exporter": "python",
   "pygments_lexer": "ipython3",
   "version": "3.11.12"
  }
 },
 "nbformat": 4,
 "nbformat_minor": 5
}
